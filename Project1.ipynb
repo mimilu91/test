{
 "cells": [
  {
   "cell_type": "markdown",
   "metadata": {},
   "source": [
    "## First project\n",
    "\n",
    "### search .ipynb in projects\n",
    "- number\n",
    "- file name"
   ]
  },
  {
   "cell_type": "code",
   "execution_count": 1,
   "metadata": {},
   "outputs": [],
   "source": [
    "import os"
   ]
  },
  {
   "cell_type": "code",
   "execution_count": 2,
   "metadata": {},
   "outputs": [
    {
     "data": {
      "text/plain": [
       "['.git',\n",
       " '.ipynb_checkpoints',\n",
       " 'IMG_3506.JPG',\n",
       " 'index.md',\n",
       " 'new1.ipynb',\n",
       " 'new2.ipynb',\n",
       " 'new3.ipynb',\n",
       " 'Project1.ipynb',\n",
       " 'pythoon_code.py',\n",
       " 'README.md',\n",
       " 'test0326-1.ipynb',\n",
       " '_config.yml']"
      ]
     },
     "execution_count": 2,
     "metadata": {},
     "output_type": "execute_result"
    }
   ],
   "source": [
    "os.listdir()"
   ]
  },
  {
   "cell_type": "code",
   "execution_count": 3,
   "metadata": {},
   "outputs": [
    {
     "ename": "FileNotFoundError",
     "evalue": "[WinError 3] 系統找不到指定的路徑。: '/Users/mimilu91/'",
     "output_type": "error",
     "traceback": [
      "\u001b[1;31m---------------------------------------------------------------------------\u001b[0m",
      "\u001b[1;31mFileNotFoundError\u001b[0m                         Traceback (most recent call last)",
      "\u001b[1;32m<ipython-input-3-8f8262807695>\u001b[0m in \u001b[0;36m<module>\u001b[1;34m\u001b[0m\n\u001b[1;32m----> 1\u001b[1;33m \u001b[0mos\u001b[0m\u001b[1;33m.\u001b[0m\u001b[0mlistdir\u001b[0m\u001b[1;33m(\u001b[0m\u001b[1;34m'/Users/mimilu91/'\u001b[0m\u001b[1;33m)\u001b[0m\u001b[1;33m\u001b[0m\u001b[1;33m\u001b[0m\u001b[0m\n\u001b[0m",
      "\u001b[1;31mFileNotFoundError\u001b[0m: [WinError 3] 系統找不到指定的路徑。: '/Users/mimilu91/'"
     ]
    }
   ],
   "source": [
    "os.listdir('/Users/mimilu91/')"
   ]
  },
  {
   "cell_type": "code",
   "execution_count": 5,
   "metadata": {},
   "outputs": [
    {
     "data": {
      "text/plain": [
       "range(0, 20)"
      ]
     },
     "execution_count": 5,
     "metadata": {},
     "output_type": "execute_result"
    }
   ],
   "source": [
    "range(20)"
   ]
  },
  {
   "cell_type": "code",
   "execution_count": 6,
   "metadata": {},
   "outputs": [
    {
     "name": "stdout",
     "output_type": "stream",
     "text": [
      "0\n",
      "1\n",
      "2\n",
      "3\n",
      "4\n",
      "5\n",
      "6\n",
      "7\n",
      "8\n",
      "9\n"
     ]
    }
   ],
   "source": [
    "for i in range(10):\n",
    "    print(i)"
   ]
  },
  {
   "cell_type": "code",
   "execution_count": 7,
   "metadata": {},
   "outputs": [],
   "source": [
    "files=os.listdir()"
   ]
  },
  {
   "cell_type": "code",
   "execution_count": 8,
   "metadata": {},
   "outputs": [
    {
     "data": {
      "text/plain": [
       "['.git',\n",
       " '.ipynb_checkpoints',\n",
       " 'IMG_3506.JPG',\n",
       " 'index.md',\n",
       " 'new1.ipynb',\n",
       " 'new2.ipynb',\n",
       " 'new3.ipynb',\n",
       " 'Project1.ipynb',\n",
       " 'pythoon_code.py',\n",
       " 'README.md',\n",
       " 'test0326-1.ipynb',\n",
       " '_config.yml']"
      ]
     },
     "execution_count": 8,
     "metadata": {},
     "output_type": "execute_result"
    }
   ],
   "source": [
    "files"
   ]
  },
  {
   "cell_type": "code",
   "execution_count": 9,
   "metadata": {},
   "outputs": [
    {
     "data": {
      "text/plain": [
       "12"
      ]
     },
     "execution_count": 9,
     "metadata": {},
     "output_type": "execute_result"
    }
   ],
   "source": [
    "len (files)"
   ]
  },
  {
   "cell_type": "code",
   "execution_count": 11,
   "metadata": {},
   "outputs": [
    {
     "data": {
      "text/plain": [
       "'.git'"
      ]
     },
     "execution_count": 11,
     "metadata": {},
     "output_type": "execute_result"
    }
   ],
   "source": [
    "files[0]"
   ]
  },
  {
   "cell_type": "code",
   "execution_count": 12,
   "metadata": {},
   "outputs": [
    {
     "name": "stdout",
     "output_type": "stream",
     "text": [
      ".git\n",
      ".ipynb_checkpoints\n",
      "IMG_3506.JPG\n",
      "index.md\n",
      "new1.ipynb\n",
      "new2.ipynb\n",
      "new3.ipynb\n",
      "Project1.ipynb\n",
      "pythoon_code.py\n",
      "README.md\n",
      "test0326-1.ipynb\n",
      "_config.yml\n"
     ]
    }
   ],
   "source": [
    "for aa in files:\n",
    "    print (aa)"
   ]
  },
  {
   "cell_type": "code",
   "execution_count": 15,
   "metadata": {},
   "outputs": [
    {
     "name": "stdout",
     "output_type": "stream",
     "text": [
      "2:.ipynb_checkpoints\n",
      "5:new1.ipynb\n",
      "6:new2.ipynb\n",
      "7:new3.ipynb\n",
      "8:Project1.ipynb\n",
      "11:test0326-1.ipynb\n"
     ]
    }
   ],
   "source": [
    "i=0\n",
    "for aa in files:\n",
    "    i=i+1\n",
    "    if '.ipynb' in aa:\n",
    "        print (str(i)+\":\"+aa)"
   ]
  },
  {
   "cell_type": "code",
   "execution_count": 16,
   "metadata": {},
   "outputs": [
    {
     "name": "stdout",
     "output_type": "stream",
     "text": [
      "5:new1.ipynb\n",
      "6:new2.ipynb\n",
      "7:new3.ipynb\n",
      "8:Project1.ipynb\n",
      "11:test0326-1.ipynb\n"
     ]
    }
   ],
   "source": [
    "i=0\n",
    "for aa in files:\n",
    "    i=i+1\n",
    "    if aa.endswith ('.ipynb') :\n",
    "        print (str(i)+\":\"+aa)"
   ]
  },
  {
   "cell_type": "code",
   "execution_count": 19,
   "metadata": {},
   "outputs": [
    {
     "name": "stdout",
     "output_type": "stream",
     "text": [
      "5:new1.ipynb\n",
      "1\n",
      "6:new2.ipynb\n",
      "2\n",
      "7:new3.ipynb\n",
      "3\n",
      "8:Project1.ipynb\n",
      "4\n",
      "11:test0326-1.ipynb\n",
      "5\n"
     ]
    }
   ],
   "source": [
    "i=0\n",
    "j=0\n",
    "for aa in files:\n",
    "    i=i+1\n",
    "    if aa.endswith ('.ipynb') :\n",
    "        j=j+1\n",
    "        print (str(i)+\":\"+aa)\n",
    "        print (j)\n",
    "        "
   ]
  },
  {
   "cell_type": "code",
   "execution_count": 20,
   "metadata": {},
   "outputs": [
    {
     "name": "stdout",
     "output_type": "stream",
     "text": [
      "5:new1.ipynb\n",
      "6:new2.ipynb\n",
      "7:new3.ipynb\n",
      "8:Project1.ipynb\n",
      "11:test0326-1.ipynb\n",
      "5\n"
     ]
    }
   ],
   "source": [
    "i=0\n",
    "j=0\n",
    "for aa in files:\n",
    "    i=i+1\n",
    "    if aa.endswith ('.ipynb') :\n",
    "        j=j+1\n",
    "        print (str(i)+\":\"+aa)\n",
    "print (j)\n",
    "        "
   ]
  },
  {
   "cell_type": "code",
   "execution_count": null,
   "metadata": {},
   "outputs": [],
   "source": []
  }
 ],
 "metadata": {
  "kernelspec": {
   "display_name": "Python 3",
   "language": "python",
   "name": "python3"
  },
  "language_info": {
   "codemirror_mode": {
    "name": "ipython",
    "version": 3
   },
   "file_extension": ".py",
   "mimetype": "text/x-python",
   "name": "python",
   "nbconvert_exporter": "python",
   "pygments_lexer": "ipython3",
   "version": "3.7.1"
  }
 },
 "nbformat": 4,
 "nbformat_minor": 2
}
